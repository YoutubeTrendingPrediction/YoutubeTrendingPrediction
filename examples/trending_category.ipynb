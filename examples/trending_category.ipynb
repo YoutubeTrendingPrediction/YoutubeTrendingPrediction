{
 "cells": [
  {
   "cell_type": "code",
   "execution_count": 330,
   "id": "b54df56c",
   "metadata": {},
   "outputs": [],
   "source": [
    "import numpy as np\n",
    "import pandas as pd"
   ]
  },
  {
   "cell_type": "code",
   "execution_count": 331,
   "id": "aebbea26",
   "metadata": {},
   "outputs": [],
   "source": [
    "df_category=pd.read_csv('../data/US_category_id.csv')"
   ]
  },
  {
   "cell_type": "code",
   "execution_count": 332,
   "id": "79fe292a",
   "metadata": {},
   "outputs": [],
   "source": [
    "df=pd.read_csv('../data/US_youtube_trending_data.csv')"
   ]
  },
  {
   "cell_type": "code",
   "execution_count": 333,
   "id": "5c7fb423",
   "metadata": {},
   "outputs": [],
   "source": [
    "df['date']=pd.to_datetime(df['trending_date']).dt.date\n",
    "df['month']=pd.to_datetime(df['trending_date']).dt.month\n",
    "df['year']=pd.to_datetime(df['trending_date']).dt.year"
   ]
  },
  {
   "cell_type": "code",
   "execution_count": 352,
   "id": "04426715",
   "metadata": {},
   "outputs": [],
   "source": [
    "df_category1=df_category.rename({'Id':'categoryId'},axis=1)\n",
    "df1=df.merge(df_category,left_on='categoryId',right_on='Id')\n",
    "df2=df1.groupby(['date','Title','month','year']).size()\n",
    "df3=df2.reset_index(name='Amount')\n",
    "df4=df3.sort_values(by=['date','Amount'])\n",
    "df5=df4.reset_index()\n",
    "df6=df5.drop(['index'],axis=1)"
   ]
  },
  {
   "cell_type": "code",
   "execution_count": 392,
   "id": "a6f8e32c",
   "metadata": {},
   "outputs": [],
   "source": [
    "df202008=df6[(df6.month==8)&(df6.year==2020)]\n",
    "df202009=df6[(df6.month==9)&(df6.year==2020)]\n",
    "df202010=df6[(df6.month==10)&(df6.year==2020)]\n",
    "df202011=df6[(df6.month==11)&(df6.year==2020)]\n",
    "df202012=df6[(df6.month==12)&(df6.year==2020)]\n",
    "df202101=df6[(df6.month==1)&(df6.year==2021)]\n",
    "df202102=df6[(df6.month==2)&(df6.year==2021)]\n",
    "df202103=df6[(df6.month==3)&(df6.year==2021)]\n",
    "df202104=df6[(df6.month==4)&(df6.year==2021)]\n",
    "df202105=df6[(df6.month==5)&(df6.year==2021)]\n",
    "df202106=df6[(df6.month==6)&(df6.year==2021)]\n",
    "df202107=df6[(df6.month==7)&(df6.year==2021)]\n",
    "df202108=df6[(df6.month==8)&(df6.year==2021)]\n",
    "df202109=df6[(df6.month==9)&(df6.year==2021)]\n",
    "df202110=df6[(df6.month==10)&(df6.year==2021)]\n",
    "df202111=df6[(df6.month==11)&(df6.year==2021)]"
   ]
  },
  {
   "cell_type": "code",
   "execution_count": 397,
   "id": "7d10a122",
   "metadata": {},
   "outputs": [],
   "source": [
    "df2008=df202008.groupby('Title').Amount.sum().reset_index(name='number')\n",
    "df2009=df202009.groupby('Title').Amount.sum().reset_index(name='number')\n",
    "df2010=df202010.groupby('Title').Amount.sum().reset_index(name='number')\n",
    "df2011=df202011.groupby('Title').Amount.sum().reset_index(name='number')\n",
    "df2012=df202012.groupby('Title').Amount.sum().reset_index(name='number')\n",
    "df2103=df202103.groupby('Title').Amount.sum().reset_index(name='number')\n",
    "df2104=df202104.groupby('Title').Amount.sum().reset_index(name='number')\n",
    "df2105=df202105.groupby('Title').Amount.sum().reset_index(name='number')\n",
    "df2106=df202106.groupby('Title').Amount.sum().reset_index(name='number')\n",
    "df2107=df202107.groupby('Title').Amount.sum().reset_index(name='number')\n",
    "df2108=df202108.groupby('Title').Amount.sum().reset_index(name='number')\n",
    "df2109=df202109.groupby('Title').Amount.sum().reset_index(name='number')\n",
    "df2110=df202110.groupby('Title').Amount.sum().reset_index(name='number')\n",
    "df2111=df202111.groupby('Title').Amount.sum().reset_index(name='number')"
   ]
  },
  {
   "cell_type": "code",
   "execution_count": 404,
   "id": "3de5419f",
   "metadata": {},
   "outputs": [],
   "source": [
    "df2008.sort_values(by='number',ascending=False).to_csv('1.csv')"
   ]
  },
  {
   "cell_type": "code",
   "execution_count": 405,
   "id": "a5aedd5b",
   "metadata": {},
   "outputs": [],
   "source": [
    "df2009.sort_values(by='number',ascending=False).to_csv('2.csv')"
   ]
  },
  {
   "cell_type": "code",
   "execution_count": 406,
   "id": "1af9648e",
   "metadata": {},
   "outputs": [],
   "source": [
    "df2010.sort_values(by='number',ascending=False).to_csv('3.csv')"
   ]
  },
  {
   "cell_type": "code",
   "execution_count": 407,
   "id": "e2707ab7",
   "metadata": {},
   "outputs": [],
   "source": [
    "df2011.sort_values(by='number',ascending=False).to_csv('4.csv')"
   ]
  },
  {
   "cell_type": "code",
   "execution_count": 408,
   "id": "87e04fab",
   "metadata": {},
   "outputs": [],
   "source": [
    "df2012.sort_values(by='number',ascending=False).to_csv('5.csv')"
   ]
  },
  {
   "cell_type": "code",
   "execution_count": 409,
   "id": "7fa9b6f7",
   "metadata": {},
   "outputs": [],
   "source": [
    "df2101.sort_values(by='number',ascending=False).to_csv('6.csv')"
   ]
  },
  {
   "cell_type": "code",
   "execution_count": 410,
   "id": "63904723",
   "metadata": {},
   "outputs": [],
   "source": [
    "df2102.sort_values(by='number',ascending=False).to_csv('7.csv')"
   ]
  },
  {
   "cell_type": "code",
   "execution_count": 411,
   "id": "80a97b70",
   "metadata": {},
   "outputs": [],
   "source": [
    "df2103.sort_values(by='number',ascending=False).to_csv('8.csv')"
   ]
  },
  {
   "cell_type": "code",
   "execution_count": 412,
   "id": "cb85629e",
   "metadata": {},
   "outputs": [],
   "source": [
    "df2104.sort_values(by='number',ascending=False).to_csv('9.csv')"
   ]
  },
  {
   "cell_type": "code",
   "execution_count": 413,
   "id": "ded4f8d2",
   "metadata": {},
   "outputs": [],
   "source": [
    "df2105.sort_values(by='number',ascending=False).to_csv('10.csv')"
   ]
  },
  {
   "cell_type": "code",
   "execution_count": 414,
   "id": "6a61b274",
   "metadata": {},
   "outputs": [],
   "source": [
    "df2106.sort_values(by='number',ascending=False).to_csv('11.csv')"
   ]
  },
  {
   "cell_type": "code",
   "execution_count": 415,
   "id": "48ab5a47",
   "metadata": {},
   "outputs": [],
   "source": [
    "df2107.sort_values(by='number',ascending=False).to_csv('12.csv')"
   ]
  },
  {
   "cell_type": "code",
   "execution_count": 416,
   "id": "a1403adf",
   "metadata": {},
   "outputs": [],
   "source": [
    "df2108.sort_values(by='number',ascending=False).to_csv('13.csv')"
   ]
  },
  {
   "cell_type": "code",
   "execution_count": 417,
   "id": "78f833f3",
   "metadata": {},
   "outputs": [],
   "source": [
    "df2109.sort_values(by='number',ascending=False).to_csv('14.csv')"
   ]
  },
  {
   "cell_type": "code",
   "execution_count": 418,
   "id": "7acbf034",
   "metadata": {},
   "outputs": [],
   "source": [
    "df2110.sort_values(by='number',ascending=False).to_csv('15.csv')"
   ]
  },
  {
   "cell_type": "code",
   "execution_count": 419,
   "id": "eafbb268",
   "metadata": {},
   "outputs": [],
   "source": [
    "df2111.sort_values(by='number',ascending=False).to_csv('16.csv')"
   ]
  },
  {
   "cell_type": "code",
   "execution_count": 428,
   "id": "213f99e0",
   "metadata": {},
   "outputs": [],
   "source": [
    "df6.drop(['month','year'],axis=1).to_csv('Daily.csv')"
   ]
  },
  {
   "cell_type": "code",
   "execution_count": null,
   "id": "fab491cf",
   "metadata": {},
   "outputs": [],
   "source": []
  }
 ],
 "metadata": {
  "kernelspec": {
   "display_name": "Python 3",
   "language": "python",
   "name": "python3"
  },
  "language_info": {
   "codemirror_mode": {
    "name": "ipython",
    "version": 3
   },
   "file_extension": ".py",
   "mimetype": "text/x-python",
   "name": "python",
   "nbconvert_exporter": "python",
   "pygments_lexer": "ipython3",
   "version": "3.8.8"
  }
 },
 "nbformat": 4,
 "nbformat_minor": 5
}
